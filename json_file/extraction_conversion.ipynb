{
 "cells": [
  {
   "cell_type": "code",
   "execution_count": 1,
   "id": "084f6df1-95a9-42a6-b8b7-226df9734513",
   "metadata": {},
   "outputs": [],
   "source": [
    "import pandas as pd\n",
    "import tabula"
   ]
  },
  {
   "cell_type": "code",
   "execution_count": 2,
   "id": "a833b9c4-329f-4fab-ae29-709f8c1d1fd5",
   "metadata": {},
   "outputs": [],
   "source": [
    "# empty list and set for appending timetables and place names.\n",
    "\n",
    "time_tables = []\n",
    "places = []"
   ]
  },
  {
   "cell_type": "code",
   "execution_count": 3,
   "id": "4f2497e0-606b-409c-a5e2-4d0744215e53",
   "metadata": {},
   "outputs": [
    {
     "name": "stdout",
     "output_type": "stream",
     "text": [
      "Exception java.lang.IndexOutOfBoundsException: Page number does not exist.\n",
      "Exception single positional indexer is out-of-bounds\n",
      "Exception single positional indexer is out-of-bounds\n",
      "Exception 0\n",
      "Exception 0\n",
      "Exception 0\n",
      "Exception 0\n",
      "Exception single positional indexer is out-of-bounds\n",
      "Exception 0\n",
      "Exception single positional indexer is out-of-bounds\n",
      "Exception 0\n",
      "Exception 0\n",
      "Exception 0\n",
      "Exception single positional indexer is out-of-bounds\n",
      "Exception 0\n",
      "Exception 0\n",
      "Exception 0\n",
      "Exception 0\n",
      "Exception single positional indexer is out-of-bounds\n",
      "Exception 0\n",
      "Exception 0\n",
      "Exception 0\n",
      "Exception 0\n",
      "Exception 0\n",
      "Exception 0\n",
      "Exception 0\n",
      "Exception 0\n",
      "Exception 0\n",
      "Exception 0\n",
      "Exception 0\n",
      "Exception 0\n",
      "Exception single positional indexer is out-of-bounds\n",
      "Exception 0\n",
      "Exception 0\n",
      "Exception single positional indexer is out-of-bounds\n",
      "Exception 0\n",
      "Exception single positional indexer is out-of-bounds\n",
      "Exception 0\n",
      "Exception 0\n",
      "Exception single positional indexer is out-of-bounds\n",
      "Exception 0\n",
      "Exception single positional indexer is out-of-bounds\n",
      "Exception single positional indexer is out-of-bounds\n",
      "Exception single positional indexer is out-of-bounds\n",
      "Exception single positional indexer is out-of-bounds\n",
      "Exception single positional indexer is out-of-bounds\n",
      "Exception 0\n",
      "Exception 0\n",
      "Exception 0\n",
      "Exception single positional indexer is out-of-bounds\n",
      "Exception single positional indexer is out-of-bounds\n",
      "Exception single positional indexer is out-of-bounds\n",
      "Exception 0\n",
      "Exception 0\n",
      "Exception single positional indexer is out-of-bounds\n",
      "Exception 0\n",
      "Exception single positional indexer is out-of-bounds\n",
      "Exception 0\n"
     ]
    }
   ],
   "source": [
    "# extracting tables from pdf using tabula\n",
    "\n",
    "for page in range(1166):\n",
    "    try:\n",
    "        \n",
    "        df = tabula.read_pdf('RMS-EKM-to upload.pdf',pages=str(page),lattice=True)\n",
    "\n",
    "        # somehow the extraction contains a list of two duplicated dataframes of the table. Therefore selecting the first element of the list.\n",
    "        df = df[0]\n",
    "\n",
    "        # the dataframe contains a lot of noise, for e.g., null columns with no headers. So dropping them.\n",
    "        df = df.dropna(axis=1,how='all')\n",
    "\n",
    "        # the column header has shifted to the first row and sub-header to the second row. \n",
    "\n",
    "        # edit: also it was noticed the final data contained '\\r' in both columns and data. So removing it from the dataframe.\n",
    "        df = df.replace('\\r',' ',regex=True)\n",
    "\n",
    "        # Extracting the names of the places from first row (header row). Removing 'Trip','Day', and null value\n",
    "        lst_places = list(df.loc[0,:].dropna().unique())\n",
    "        for i in ['Trip','Day']:\n",
    "            if i in lst_places:\n",
    "                lst_places.remove(i)\n",
    "\n",
    "        # appending place name to places master list \n",
    "        for i in lst_places:\n",
    "            if i not in places:\n",
    "                places.append(i)\n",
    "        \n",
    "        # extracting only the body of the data as dataframe since the headers and sub-headers are messed up.\n",
    "        # we don't need 'Trip' column since we already have the index\n",
    "        df = df.iloc[2:,1:]\n",
    "                \n",
    "        # index is corrected so as to start from 0.\n",
    "        df.index-=2\n",
    "\n",
    "        # a dictionary will be created with 'Day'+places as keys and each place having a value:dict containing 'A','D','Via' as keys\n",
    "        # inturn 'A','D','Via' will have values:list(columnwise data)\n",
    "        dict1 = {'Day':list(df.iloc[:,0])}\n",
    "        column_number=1\n",
    "        for i in lst_places:\n",
    "            dict2={}\n",
    "            for j in ['A','D','Via']:\n",
    "                values = df.iloc[:,column_number]\n",
    "\n",
    "                # edit: the time data was found to have '.' instead of ':'\n",
    "                if j=='A' or j=='D':\n",
    "                    values = values.str.replace('.',':')\n",
    "                dict2[j]=list(values)\n",
    "                column_number+=1\n",
    "                dict1[i]=dict2\n",
    "                    \n",
    "        # appending dictionary to time_tables master list \n",
    "        time_tables.append(dict1)\n",
    "        \n",
    "    except Exception as e:\n",
    "        print('Exception',e)"
   ]
  },
  {
   "cell_type": "code",
   "execution_count": 4,
   "id": "349ff9b4-711a-48b9-9099-4d8787ce0a7a",
   "metadata": {},
   "outputs": [
    {
     "data": {
      "text/plain": [
       "1108"
      ]
     },
     "execution_count": 4,
     "metadata": {},
     "output_type": "execute_result"
    }
   ],
   "source": [
    "len(time_tables)"
   ]
  },
  {
   "cell_type": "code",
   "execution_count": 5,
   "id": "6021b86d-e51f-43e5-bf41-ff2c7e1aacbc",
   "metadata": {},
   "outputs": [
    {
     "data": {
      "text/plain": [
       "566"
      ]
     },
     "execution_count": 5,
     "metadata": {},
     "output_type": "execute_result"
    }
   ],
   "source": [
    "len(places)"
   ]
  },
  {
   "cell_type": "code",
   "execution_count": 6,
   "id": "e0752c28-ee33-45f6-ad24-1b726f20c5a6",
   "metadata": {},
   "outputs": [],
   "source": [
    "# converting and exporting time_tables list as JSON file\n",
    "\n",
    "import json\n",
    "\n",
    "with open(\"time_tables.json\", \"w\") as outfile: \n",
    "            json.dump(time_tables, outfile)"
   ]
  },
  {
   "cell_type": "code",
   "execution_count": 7,
   "id": "5a2968de-10d1-42be-87e4-f8d506cded63",
   "metadata": {},
   "outputs": [],
   "source": [
    "# converting and exporting places list as JSON file\n",
    "\n",
    "# edit: it was noticed that the places list somehow contained the string elements 'A','D','Via'. Therefore removing it. \n",
    "\n",
    "for i in ['A','D','Via']:\n",
    "    if i in places:\n",
    "        places.remove(i)\n",
    "\n",
    "with open(\"places.json\", \"w\") as outfile: \n",
    "            json.dump(sorted(places), outfile)"
   ]
  }
 ],
 "metadata": {
  "kernelspec": {
   "display_name": "Python 3 (ipykernel)",
   "language": "python",
   "name": "python3"
  },
  "language_info": {
   "codemirror_mode": {
    "name": "ipython",
    "version": 3
   },
   "file_extension": ".py",
   "mimetype": "text/x-python",
   "name": "python",
   "nbconvert_exporter": "python",
   "pygments_lexer": "ipython3",
   "version": "3.8.10"
  }
 },
 "nbformat": 4,
 "nbformat_minor": 5
}
